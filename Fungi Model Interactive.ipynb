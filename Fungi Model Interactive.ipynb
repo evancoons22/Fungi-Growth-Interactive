{
 "cells": [
  {
   "cell_type": "code",
   "execution_count": 1,
   "metadata": {
    "id": "Gg-o2g-FHee4"
   },
   "outputs": [],
   "source": [
    "import numpy as np\n",
    "from matplotlib import pyplot as plt\n",
    "from scipy.integrate import solve_ivp"
   ]
  },
  {
   "cell_type": "markdown",
   "metadata": {
    "id": "hTRXaxnMZXp0"
   },
   "source": [
    "# Fungi Growth Model - Evan Coons, Ben Stewart, Jessie Baker, Ronan Nayak {-}"
   ]
  },
  {
   "cell_type": "markdown",
   "metadata": {
    "id": "ZCi_zwyYaAKc"
   },
   "source": [
    "## Intro - Questions, Background, etc. {-}"
   ]
  },
  {
   "cell_type": "markdown",
   "metadata": {
    "id": "RasINg__Wz8A"
   },
   "source": [
    "### Background {-}\n",
    "\n",
    "The carbon cycle is the continuous process in which carbon is exchanged between organisms and the environment, and is reused throughout the planet. This process is very important for sustaining life on Earth. Fungi are the primary decomposers of organic material in the terrestrial ecosystem, and therefore are critical components in the carbon cycle. The main contribution of fungus in the carbon cycle is decomposing wood. Current climate models don’t accurately reflect how diversity in fungal traits affect their ability to decompose wood. It would greatly help the level of detail of these models to account for differing fungal traits in their assumptions. With this higher resolution climate model, we can more accurately predict future wood decomposition.\n",
    "\n",
    "In general, fungi have many traits that can differ between species, each of which affects their ability to decompose in a different magnitude. Two traits of fungi we will focus on are moisture tolerance niche and hyphal extension rate. Moisture tolerance niche is essentially the range of the moisture level at which half of a fungal community can maintain its fastest growth rate. Hyphal extension rate is the growth rate of the cells that form the filaments of the fungi. Larger hyphal extension rates indicate a faster decomposition rate and larger moisture tolerance niches indicate a slower decomposition rate. The perk of a higher moisture tolerance nuche, though, is that these fungi can survive better in a variety of climates. This suggests that they may not decompose wood as fast as those with higher hyphal extension rates, however they can decompose in a more diverse setting. We will analyze the effect of these traits on the decomposition rate of differing fungal communities.\n",
    "\n",
    "\n",
    "  "
   ]
  },
  {
   "cell_type": "markdown",
   "metadata": {
    "id": "f-tFZElAWcdq"
   },
   "source": [
    "### Requirement {-}\n",
    "\n",
    "In this problem we are tasked with investigating how the growth rates and moisture tolerance niches of different species of fungi affect their ability to decompose wood and ground litter. Additionally, we are asked analyze the species’ competition with each other and the effect of environmental moisture level on the two species’ abilities to decompose wood and compete with each other.  We are also asked to examine the long term behavior in each of the varying situations. All of this is meant to assist in gaining a better understanding of how the diversity of fungal communities affects the efficiency of that community’s ability to decompose wood and  participate meaningfully in the carbon cycle."
   ]
  },
  {
   "cell_type": "markdown",
   "metadata": {
    "id": "p2txuVRGZv0h"
   },
   "source": [
    "## Spatial Linear Stochastic Model (Discrete Time) {-} "
   ]
  },
  {
   "cell_type": "markdown",
   "metadata": {},
   "source": [
    "In this spatial model, c1 and c2 are the constants that determine the growth rates for the blue fungi and the red fungi, respectively. They are also known as the constants of proportionality. They determine the amount that the fungi expand at each time step. "
   ]
  },
  {
   "cell_type": "code",
   "execution_count": 2,
   "metadata": {
    "id": "w6nvB1MNWFl5",
    "tags": []
   },
   "outputs": [],
   "source": [
    "def run_simulation(start_coords, c1, c2, t):\n",
    "    global grid \n",
    "    grid = np.zeros([100,100])\n",
    "    global a_x_coords\n",
    "    global a_y_coords\n",
    "    global b_x_coords\n",
    "    global b_y_coords\n",
    "    a_x_coords = []\n",
    "    a_y_coords = []\n",
    "    b_x_coords = []\n",
    "    b_y_coords = []\n",
    "    \n",
    "    grid[start_coords[0]] = 2\n",
    "    grid[start_coords[1]] = 1\n",
    "    a_x_coords.append(start_coords[0][0])\n",
    "    a_y_coords.append(start_coords[0][1])\n",
    "    b_x_coords.append(start_coords[1][0])\n",
    "    b_y_coords.append(start_coords[1][1])\n",
    "    for i in range(t):\n",
    "        expansion_a = expansion_size(c1)\n",
    "        expansion_b = expansion_size(c2)\n",
    "        count = 0\n",
    "        while count < expansion_a: \n",
    "            rand_coord_x = np.random.randint(max(min(a_x_coords) - 1, 0), min(max(a_x_coords) + 2, grid.shape[1] - 1))\n",
    "            rand_coord_y = np.random.randint(max(min(a_y_coords) - 1, 0), min(max(a_y_coords) + 2, grid.shape[0] - 1))\n",
    "            if((grid[rand_coord_x, rand_coord_y] == 0) & ((grid[rand_coord_x + 1, rand_coord_y] == 2) | (grid[rand_coord_x, rand_coord_y + 1] == 2) | (grid[rand_coord_x - 1, rand_coord_y] == 2) | (grid[rand_coord_x, rand_coord_y - 1] == 2))):\n",
    "                grid[rand_coord_x, rand_coord_y] = 2\n",
    "                count += 1\n",
    "                a_x_coords.append(rand_coord_x)\n",
    "                a_y_coords.append(rand_coord_y)\n",
    "            \n",
    "        count = 0\n",
    "        while count < expansion_b:\n",
    "            rand_coord_x = np.random.randint(max(min(b_x_coords) - 1, 0), min(max(b_x_coords) + 2, grid.shape[1] - 1))\n",
    "            rand_coord_y = np.random.randint(max(min(b_y_coords) - 1, 0), min(max(b_y_coords) + 2, grid.shape[1] - 1))\n",
    "            if((grid[rand_coord_x, rand_coord_y] == 0) & ((grid[rand_coord_x + 1, rand_coord_y] == 1) | (grid[rand_coord_x, rand_coord_y + 1] == 1) | (grid[rand_coord_x - 1, rand_coord_y] == 1) | (grid[rand_coord_x, rand_coord_y - 1] == 1))):\n",
    "                grid[rand_coord_x, rand_coord_y] = 1\n",
    "                count += 1\n",
    "                b_x_coords.append(rand_coord_x)\n",
    "                b_y_coords.append(rand_coord_y)\n",
    "\n",
    "            \n"
   ]
  },
  {
   "cell_type": "code",
   "execution_count": 3,
   "metadata": {
    "id": "Zk-Q8rf-a-AN",
    "tags": []
   },
   "outputs": [],
   "source": [
    "def expansion_size(c): \n",
    "    return int(c * np.random.randint(10))"
   ]
  },
  {
   "cell_type": "markdown",
   "metadata": {},
   "source": [
    "In this model, the fungi have the same growth rates. The last time step is plotted. "
   ]
  },
  {
   "cell_type": "code",
   "execution_count": 4,
   "metadata": {
    "colab": {
     "base_uri": "https://localhost:8080/",
     "height": 614
    },
    "id": "xdJEapmRaxj5",
    "outputId": "0592fa15-d6ff-444c-b122-a99d0564292c",
    "tags": []
   },
   "outputs": [
    {
     "data": {
      "text/plain": [
       "(0.0, 100.0)"
      ]
     },
     "execution_count": 4,
     "metadata": {},
     "output_type": "execute_result"
    },
    {
     "data": {
      "image/png": "[encoded data removed]",
      "text/plain": [
       "<Figure size 360x360 with 1 Axes>"
      ]
     },
     "metadata": {
      "needs_background": "light"
     },
     "output_type": "display_data"
    }
   ],
   "source": [
    "start_coords = [(1,1), (50, 50)]\n",
    "run_simulation(start_coords, 0.5, 0.5, 1000)\n",
    "\n",
    "plt.figure(figsize=(5,5))\n",
    "plt.scatter(a_x_coords, a_y_coords, s = 3, marker = \"s\")\n",
    "plt.scatter(b_x_coords, b_y_coords, s = 3, marker = \"s\")\n",
    "plt.scatter(x = a_x_coords[0], y = a_y_coords[0])\n",
    "plt.scatter(x = b_x_coords[0], y = b_y_coords[0])\n",
    "plt.xlim(0,100)\n",
    "plt.ylim(0,100)"
   ]
  },
  {
   "cell_type": "markdown",
   "metadata": {},
   "source": [
    "Here, the fungi also have the same growth rates, but they are in different starting positions and there are more time steps. "
   ]
  },
  {
   "cell_type": "code",
   "execution_count": 5,
   "metadata": {
    "colab": {
     "base_uri": "https://localhost:8080/",
     "height": 614
    },
    "id": "KnttLWoVbx3X",
    "outputId": "49c21511-72ea-4224-892d-563c739cf2dd",
    "tags": []
   },
   "outputs": [
    {
     "data": {
      "text/plain": [
       "(0.0, 100.0)"
      ]
     },
     "execution_count": 5,
     "metadata": {},
     "output_type": "execute_result"
    },
    {
     "data": {
      "image/png": "[encoded data removed]",
      "text/plain": [
       "<Figure size 360x360 with 1 Axes>"
      ]
     },
     "metadata": {
      "needs_background": "light"
     },
     "output_type": "display_data"
    }
   ],
   "source": [
    "start_coords = [(75,75), (25, 25)]\n",
    "run_simulation(start_coords, 0.5, 0.5, 2000)\n",
    "plt.figure(figsize=(5,5))\n",
    "plt.scatter(a_x_coords, a_y_coords, s = 5, marker = \"s\")\n",
    "plt.scatter(b_x_coords, b_y_coords, s = 5, marker = \"s\")\n",
    "plt.scatter(x = a_x_coords[0], y = a_y_coords[0])\n",
    "plt.scatter(x = b_x_coords[0], y = b_y_coords[0])\n",
    "plt.xlim(0,100)\n",
    "plt.ylim(0,100)"
   ]
  },
  {
   "cell_type": "markdown",
   "metadata": {},
   "source": [
    "Model with the orange fungi having a growth rate that is much bigger than the blue fungi. It takes over the area. (This takes a while to run)"
   ]
  },
  {
   "cell_type": "code",
   "execution_count": 6,
   "metadata": {
    "colab": {
     "base_uri": "https://localhost:8080/",
     "height": 614
    },
    "id": "AC2cCIgtbZA7",
    "outputId": "5902b48d-2e7d-45b0-faf0-933edb2570f7",
    "tags": []
   },
   "outputs": [
    {
     "data": {
      "text/plain": [
       "(0.0, 100.0)"
      ]
     },
     "execution_count": 6,
     "metadata": {},
     "output_type": "execute_result"
    },
    {
     "data": {
      "image/png": "[encoded data removed]",
      "text/plain": [
       "<Figure size 360x360 with 1 Axes>"
      ]
     },
     "metadata": {
      "needs_background": "light"
     },
     "output_type": "display_data"
    }
   ],
   "source": [
    "start_coords = [(75,75), (25, 25)]\n",
    "run_simulation(start_coords, 0.2, 0.9, 2000)\n",
    "plt.figure(figsize=(5,5))\n",
    "plt.scatter(a_x_coords, a_y_coords, s = 5, marker = \"s\")\n",
    "plt.scatter(b_x_coords, b_y_coords, s = 5, marker = \"s\")\n",
    "plt.scatter(x = a_x_coords[0], y = a_y_coords[0])\n",
    "plt.scatter(x = b_x_coords[0], y = b_y_coords[0])\n",
    "plt.xlim(0,100)\n",
    "plt.ylim(0,100)"
   ]
  },
  {
   "cell_type": "markdown",
   "metadata": {
    "id": "Bp6N_A7GakJK"
   },
   "source": [
    "## Spatial Logistic Stochastic Model (Discrete Time) {-}"
   ]
  },
  {
   "cell_type": "markdown",
   "metadata": {
    "id": "nkvoVQC4cX6e"
   },
   "source": [
    "For this model, more complexity is introduced. The growth is logistic and there are more parameters, like direct competition between fungi touching eachother. In the jupyter notebook, these models are interactive -- there is a slider for `t`"
   ]
  },
  {
   "cell_type": "code",
   "execution_count": 15,
   "metadata": {},
   "outputs": [],
   "source": [
    "from itertools import cycle\n",
    "import numpy as np\n",
    "import plotlymath as plt\n",
    "\n",
    "from ipywidgets import FloatSlider, IntSlider, Button, VBox\n",
    "from myutils import interact\n",
    "colors = plt.plotly.colors.DEFAULT_PLOTLY_COLORS"
   ]
  },
  {
   "cell_type": "code",
   "execution_count": 9,
   "metadata": {},
   "outputs": [],
   "source": [
    "def expansion_size_2(r, size, trapped, overtake = False): \n",
    "    if trapped & ~overtake:  \n",
    "        return int(20 * r * (np.random.randn() + 1.5) * (1 - size / (100 * 100)) + r * 10)\n",
    "    else: \n",
    "        return int(20 * r * (np.random.randn() + 1.5) * (1 - size / (100 * 100)) + 1)"
   ]
  },
  {
   "cell_type": "code",
   "execution_count": 31,
   "metadata": {},
   "outputs": [],
   "source": [
    "def run_simulation_2(start_coords, c1, c2, t, overtake, trapped):\n",
    "    global grid \n",
    "    grid = np.zeros([100,100])\n",
    "    global a_x_coords\n",
    "    global a_y_coords\n",
    "    global b_x_coords\n",
    "    global b_y_coords\n",
    "    global time_a\n",
    "    global time_b\n",
    "    global a_coords\n",
    "    global b_coords\n",
    "    a_x_coords = []\n",
    "    a_y_coords = []\n",
    "    b_x_coords = []\n",
    "    b_y_coords = []\n",
    "    time_a = [0]\n",
    "    time_b = [0]\n",
    "    a_coords = []\n",
    "    b_coords = []\n",
    "    \n",
    "    grid[start_coords[0]] = 2\n",
    "    grid[start_coords[1]] = 1\n",
    "    a_x_coords.append(start_coords[0][0])\n",
    "    a_y_coords.append(start_coords[0][1])\n",
    "    b_x_coords.append(start_coords[1][0])\n",
    "    b_y_coords.append(start_coords[1][1])\n",
    "    a_coords.append((start_coords[0][0], start_coords[0][1]))\n",
    "    b_coords.append((start_coords[1][0], start_coords[1][1]))\n",
    "    \n",
    "    interactive = True   \n",
    "    \n",
    "    for i in range(t):\n",
    "        expansion_a = expansion_size_2(c1, len(a_x_coords), trapped, overtake)\n",
    "        expansion_b = expansion_size_2(c2, len(a_y_coords), trapped)\n",
    "        count = 0\n",
    "        for j in range(expansion_a): time_a.append(i)\n",
    "        while count < expansion_a: \n",
    "                \n",
    "            rand_coord_x = np.random.randint(max(min(a_x_coords) - 1, 0), min(max(a_x_coords) + 2, grid.shape[1] - 1))\n",
    "            rand_coord_y = np.random.randint(max(min(a_y_coords) - 1, 0), min(max(a_y_coords) + 2, grid.shape[0] - 1))\n",
    "            \n",
    "            if((grid[rand_coord_x, rand_coord_y] == 0) & ((grid[rand_coord_x + 1, rand_coord_y] == 2) | (grid[rand_coord_x, rand_coord_y + 1] == 2) | (grid[rand_coord_x - 1, rand_coord_y] == 2) | (grid[rand_coord_x, rand_coord_y - 1] == 2))):\n",
    "                grid[rand_coord_x, rand_coord_y] = 2\n",
    "                count += 1\n",
    "                a_x_coords.append(rand_coord_x)\n",
    "                a_y_coords.append(rand_coord_y)\n",
    "                a_coords.append((rand_coord_x, rand_coord_y))\n",
    "            elif(overtake & interactive & (grid[rand_coord_x, rand_coord_y] == 1) & ((grid[rand_coord_x + 1, rand_coord_y] == 2) | (grid[rand_coord_x, rand_coord_y + 1] == 2) | (grid[rand_coord_x - 1, rand_coord_y] == 2) | (grid[rand_coord_x, rand_coord_y - 1] == 2))):\n",
    "                grid[rand_coord_x, rand_coord_y] = 2\n",
    "                count += 1\n",
    "                a_x_coords.append(rand_coord_x)\n",
    "                a_y_coords.append(rand_coord_y)\n",
    "                a_coords.append((rand_coord_x, rand_coord_y)) \n",
    "            if trapped & ~overtake:\n",
    "                interactive = False\n",
    "                c1 = 0\n",
    "\n",
    "                \n",
    "        count = 0\n",
    "        for j in range(expansion_b): time_b.append(i)\n",
    "        while count < expansion_b:\n",
    "            rand_coord_x = np.random.randint(max(min(b_x_coords) - 1, 0), min(max(b_x_coords) + 2, grid.shape[1] - 1))\n",
    "            rand_coord_y = np.random.randint(max(min(b_y_coords) - 1, 0), min(max(b_y_coords) + 2, grid.shape[1] - 1))\n",
    "            if((grid[rand_coord_x, rand_coord_y] == 0) & ((grid[rand_coord_x + 1, rand_coord_y] == 1) | (grid[rand_coord_x, rand_coord_y + 1] == 1) | (grid[rand_coord_x - 1, rand_coord_y] == 1) | (grid[rand_coord_x, rand_coord_y - 1] == 1))):\n",
    "                grid[rand_coord_x, rand_coord_y] = 1\n",
    "                count += 1\n",
    "                b_x_coords.append(rand_coord_x)\n",
    "                b_y_coords.append(rand_coord_y)\n",
    "                b_coords.append((rand_coord_x, rand_coord_y))\n",
    "            \n",
    "\n",
    "\n",
    "    "
   ]
  },
  {
   "cell_type": "code",
   "execution_count": 29,
   "metadata": {
    "tags": []
   },
   "outputs": [],
   "source": [
    "def discrete_logistic_interactive(time_a, time_b, a_coords, b_coords):\n",
    "    figure, plot = plt.make_figure(widget=True)\n",
    "    plot.axes_ranges((0, 100), (0, 100))\n",
    "    plot.axes_labels(r\"X dimension\", r\"Y dimension\")\n",
    "    total_time = max(max(time_a), max(time_b))\n",
    "    time_a = np.array(time_a)\n",
    "    time_b = np.array(time_b)\n",
    "    a_coords = np.array(a_coords)\n",
    "    b_coords = np.array(b_coords)\n",
    "    time = 1\n",
    "    \n",
    "    if len(a_coords) < len(time_a): \n",
    "        time_a = np.array([0])\n",
    "    \n",
    "    @interact(time=IntSlider(min = 1, max= total_time, value= 1))\n",
    "    def update(time):\n",
    "        with figure.batch_update():\n",
    "            plot.points_b = plt.points(b_coords[time_b <= time], color = \"red\", showlegend=False, marker_size = 4)\n",
    "            plot.points = plt.points(a_coords[time_a <= time], color = colors[0], showlegend=False, marker_size = 4)\n",
    "    update(time)\n",
    "    figure.data[0].update()\n",
    "    figure.update_layout(autosize=False, width=500, height=500)\n",
    "   \n",
    "    return figure"
   ]
  },
  {
   "cell_type": "markdown",
   "metadata": {},
   "source": [
    "## Competition - same growth rate"
   ]
  },
  {
   "cell_type": "markdown",
   "metadata": {},
   "source": [
    "In this first interactive model, these two fungi have the same characteristics. Their starting spots are symmetrical and they have the same growth rates. "
   ]
  },
  {
   "cell_type": "code",
   "execution_count": 37,
   "metadata": {},
   "outputs": [
    {
     "data": {
      "application/vnd.jupyter.widget-view+json": {
       "model_id": "a109e77c01d0473586904930f94395cc",
       "version_major": 2,
       "version_minor": 0
      },
      "text/plain": [
       "interactive(children=(IntSlider(value=1, description='time', max=999, min=1), Output()), _dom_classes=('widget…"
      ]
     },
     "metadata": {},
     "output_type": "display_data"
    },
    {
     "data": {
      "application/vnd.jupyter.widget-view+json": {
       "model_id": "4dc6d7b879ef494b97db8d2ebaabb33e",
       "version_major": 2,
       "version_minor": 0
      },
      "text/plain": [
       "FigureWidget({\n",
       "    'data': [{'marker': {'color': 'red', 'size': 4},\n",
       "              'mode': 'markers',\n",
       "         …"
      ]
     },
     "metadata": {},
     "output_type": "display_data"
    }
   ],
   "source": [
    "start_coords = [(40,50), (60, 50)]\n",
    "run_simulation_2(start_coords, 0.06, 0.06, 1000, overtake = False, trapped = False)\n",
    "discrete_logistic_interactive(time_a, time_b, a_coords, b_coords)"
   ]
  },
  {
   "cell_type": "markdown",
   "metadata": {},
   "source": [
    "## Different Growth rates"
   ]
  },
  {
   "cell_type": "markdown",
   "metadata": {},
   "source": [
    "In this model, the red fungi has a larger growth rate - twice as large. Over time, it begins to grow much faster. With more time steps, it would grow faster, but it has the same carrying capacity as the blue fungi. "
   ]
  },
  {
   "cell_type": "code",
   "execution_count": 33,
   "metadata": {},
   "outputs": [
    {
     "data": {
      "application/vnd.jupyter.widget-view+json": {
       "model_id": "ffbc6dbd5a9c4aad860c0bfd0c16a327",
       "version_major": 2,
       "version_minor": 0
      },
      "text/plain": [
       "interactive(children=(IntSlider(value=1, description='time', max=999, min=1), Output()), _dom_classes=('widget…"
      ]
     },
     "metadata": {},
     "output_type": "display_data"
    },
    {
     "data": {
      "application/vnd.jupyter.widget-view+json": {
       "model_id": "2cd0057232544acd8f652f3e17a63035",
       "version_major": 2,
       "version_minor": 0
      },
      "text/plain": [
       "FigureWidget({\n",
       "    'data': [{'marker': {'color': 'red', 'size': 4},\n",
       "              'mode': 'markers',\n",
       "         …"
      ]
     },
     "metadata": {},
     "output_type": "display_data"
    }
   ],
   "source": [
    "start_coords = [(40,50), (60, 50)]\n",
    "run_simulation_2(start_coords, 0.06, 0.12, 1000, overtake = False, trapped = False)\n",
    "discrete_logistic_interactive(time_a, time_b, a_coords, b_coords)"
   ]
  },
  {
   "cell_type": "markdown",
   "metadata": {},
   "source": [
    "## Competition - blue can push the red out of the way"
   ]
  },
  {
   "cell_type": "markdown",
   "metadata": {},
   "source": [
    "In this model, the red fungi's growth rate is still twice as larage, but the blue fungi has a distinct competitive advantage -- it can push the red fungi out. This model represents what might happen in the wild when one fungi is distinctly stronger than other and push it out. In the long term, although the red grows faster, the blue will overtake the area due to this advantage. "
   ]
  },
  {
   "cell_type": "code",
   "execution_count": 34,
   "metadata": {},
   "outputs": [
    {
     "data": {
      "application/vnd.jupyter.widget-view+json": {
       "model_id": "7f1a56336b87406c8d317a7ffbcf27a2",
       "version_major": 2,
       "version_minor": 0
      },
      "text/plain": [
       "interactive(children=(IntSlider(value=1, description='time', max=999, min=1), Output()), _dom_classes=('widget…"
      ]
     },
     "metadata": {},
     "output_type": "display_data"
    },
    {
     "data": {
      "application/vnd.jupyter.widget-view+json": {
       "model_id": "94f18deca58e46a783a8aea74a1605f4",
       "version_major": 2,
       "version_minor": 0
      },
      "text/plain": [
       "FigureWidget({\n",
       "    'data': [{'marker': {'color': 'red', 'size': 4},\n",
       "              'mode': 'markers',\n",
       "         …"
      ]
     },
     "metadata": {},
     "output_type": "display_data"
    }
   ],
   "source": [
    "start_coords = [(40,50), (60, 50)]\n",
    "run_simulation_2(start_coords, 0.06, 0.12, 1000, overtake = True, trapped = False)\n",
    "discrete_logistic_interactive(time_a, time_b, a_coords, b_coords)"
   ]
  },
  {
   "cell_type": "markdown",
   "metadata": {},
   "source": [
    "## Fungi gets trapped"
   ]
  },
  {
   "cell_type": "markdown",
   "metadata": {},
   "source": [
    "The starting position of the fungi on the wood is also important. Modeled here, the blue fungi first attaches to the wood in the bottom left corner. The red fungi happens to attach in a spot very close, and it has a faster growth rate. The red fungi then extends to the edge of the wood, and the blue fungi does not have room to expand. "
   ]
  },
  {
   "cell_type": "code",
   "execution_count": 35,
   "metadata": {},
   "outputs": [
    {
     "data": {
      "application/vnd.jupyter.widget-view+json": {
       "model_id": "3a12d07eca37464e92ab88ecbbf11c6e",
       "version_major": 2,
       "version_minor": 0
      },
      "text/plain": [
       "interactive(children=(IntSlider(value=1, description='time', max=999, min=1), Output()), _dom_classes=('widget…"
      ]
     },
     "metadata": {},
     "output_type": "display_data"
    },
    {
     "data": {
      "application/vnd.jupyter.widget-view+json": {
       "model_id": "23396179620041d0bb8a1c992eac7ad3",
       "version_major": 2,
       "version_minor": 0
      },
      "text/plain": [
       "FigureWidget({\n",
       "    'data': [{'marker': {'color': 'red', 'size': 4},\n",
       "              'mode': 'markers',\n",
       "         …"
      ]
     },
     "metadata": {},
     "output_type": "display_data"
    }
   ],
   "source": [
    "start_coords = [(1,1), (5, 5)]\n",
    "run_simulation_2(start_coords, 0.02, 0.14, 1000, overtake = False, trapped = True)\n",
    "discrete_logistic_interactive(time_a, time_b, a_coords, b_coords)"
   ]
  },
  {
   "cell_type": "markdown",
   "metadata": {},
   "source": [
    "## Fungi gets trapped and but can push out red Fungi"
   ]
  },
  {
   "cell_type": "markdown",
   "metadata": {},
   "source": [
    "In this fifth and final simulation, the blue fungi is trapped in the bottem left as above, but it is given the characteristic of being able to overtake the red fungi, similar to the third model. Although the red grows quickly to begin, the blue overtakes over time due to this competitive advantage. "
   ]
  },
  {
   "cell_type": "code",
   "execution_count": 36,
   "metadata": {},
   "outputs": [
    {
     "data": {
      "application/vnd.jupyter.widget-view+json": {
       "model_id": "a4478e559cf044048d47bd10a302ee13",
       "version_major": 2,
       "version_minor": 0
      },
      "text/plain": [
       "interactive(children=(IntSlider(value=1, description='time', max=999, min=1), Output()), _dom_classes=('widget…"
      ]
     },
     "metadata": {},
     "output_type": "display_data"
    },
    {
     "data": {
      "application/vnd.jupyter.widget-view+json": {
       "model_id": "93cf9b2d20c74d8ea609bc95aa97cc37",
       "version_major": 2,
       "version_minor": 0
      },
      "text/plain": [
       "FigureWidget({\n",
       "    'data': [{'marker': {'color': 'red', 'size': 4},\n",
       "              'mode': 'markers',\n",
       "         …"
      ]
     },
     "metadata": {},
     "output_type": "display_data"
    }
   ],
   "source": [
    "start_coords = [(1,1), (5, 5)]\n",
    "run_simulation_2(start_coords, 0.02, 0.12, 1000, overtake = True, trapped = True)\n",
    "discrete_logistic_interactive(time_a, time_b, a_coords, b_coords)"
   ]
  },
  {
   "cell_type": "markdown",
   "metadata": {},
   "source": [
    "#### Conclusion {-}"
   ]
  },
  {
   "cell_type": "markdown",
   "metadata": {},
   "source": [
    "In the short term, the growth rate is the most important factor in determining the dominance of fungi. In the long term, though, the competitive advantage of being able to overtake determine the dominance of fungi. "
   ]
  },
  {
   "cell_type": "markdown",
   "metadata": {
    "id": "y4W5rnY8ZqC2"
   },
   "source": [
    "## Deterministic Logistic Model - Lotka Volterra {-}"
   ]
  },
  {
   "cell_type": "markdown",
   "metadata": {
    "id": "iGq_GSIjC2Xv"
   },
   "source": [
    "$\\frac{dx}{dt}=r_xx(1-\\frac{x-\\alpha_{xy} y}{K_x})$\n",
    "\n",
    "$\\frac{dy}{dt}=r_yy(1-\\frac{y-\\alpha_{yx} y}{K_y})$\n",
    "\n",
    "$\\frac{dw}{dt}=aX+bY$"
   ]
  },
  {
   "cell_type": "markdown",
   "metadata": {
    "id": "4UiqROplDw-H"
   },
   "source": [
    "$r_x=$ Growth rate of species X\n",
    "\n",
    "$r_y=$ Growth rate of species Y\n",
    "\n",
    "$\\alpha_{xy} =$ Competition coefficient of Y on X\n",
    "\n",
    "$\\alpha_{yx} =$ Competition coefficient of X on Y\n",
    "\n",
    "$K_x=$ Carrying capacity of species X\n",
    "\n",
    "$K_y=$ Carring capacity of species Y\n",
    "\n",
    "$a=$ Decomposition coefficient of species X\n",
    "\n",
    "$b=$ Decomposition coefficient of species Y"
   ]
  },
  {
   "cell_type": "markdown",
   "metadata": {
    "id": "cQti6f-LCsvC"
   },
   "source": [
    "### Competition Model 1 {-}\n",
    "Two species, X and Y, are competing for survival on a wooden log. Species X has a higher growth rate than species Y and Species Y has a higher moisture tolerance range than Species X. In this model, the moisture level is at a point that gives Species Y a competitive advantage over Species X."
   ]
  },
  {
   "cell_type": "markdown",
   "metadata": {
    "id": "bq6NZDpkCzgD"
   },
   "source": [
    "$\\frac{dx}{dt}=1.05x(1-\\frac{x+0.5y}{100})$\n",
    "\n",
    "$\\frac{dy}{dt}=1.03y(1-\\frac{y+0.2x}{100})$\n",
    "\n",
    "\n",
    "$r_x=1.05$, $r_y=1.03$, $\\alpha_{xy} = 0.5$, $\\alpha_{yx} = 0.2$, $K_x=$100, $K_Y=100$\n"
   ]
  },
  {
   "cell_type": "markdown",
   "metadata": {
    "id": "2XAyYLtjF43D"
   },
   "source": [
    "We know three of the fixed points: (0, 0), (100, 0), (0, 100) given the carrying capacities. To find the fourth:\n",
    "\n",
    "$0=1-\\frac{x+0.5y}{100}$\n",
    "\n",
    "$100=x+0.5y$\n",
    "\n",
    "$x=100-0.5y$\n"
   ]
  },
  {
   "cell_type": "markdown",
   "metadata": {
    "id": "rea4hk4RGZxo"
   },
   "source": [
    "$0=1-\\frac{y+0.2x}{100}$\n",
    "\n",
    "$100=y+0.2x$\n",
    "\n",
    "$y=100-0.2x$\n",
    "\n"
   ]
  },
  {
   "cell_type": "markdown",
   "metadata": {
    "id": "y5aMQRB9GpHu"
   },
   "source": [
    "$x=100-0.5(100-0.2x)$\n",
    "\n",
    "$x=150-50+0.1x$\n",
    "\n",
    "$0.9x=50$\n",
    "\n",
    "$x=55.56$\n",
    "\n",
    "$y=77.78$"
   ]
  },
  {
   "cell_type": "markdown",
   "metadata": {
    "id": "Ks8oBtpJGz9n"
   },
   "source": [
    "The fixed points are: $\\textbf{(0,0), (100, 0), (0, 100), (55.56, 88.89)}$"
   ]
  },
  {
   "cell_type": "markdown",
   "metadata": {
    "id": "9zHSStjGG_E8"
   },
   "source": [
    "$J=\n",
    "\\begin{bmatrix}\n",
    "1.05(1+\\frac{-2x-0.5y}{100}) & -0.0035x\\\\\n",
    "-0.00206x & 1.03(1+\\frac{-2y-0.2x}{100})\n",
    "\\end{bmatrix}$"
   ]
  },
  {
   "cell_type": "code",
   "execution_count": null,
   "metadata": {
    "id": "8DZP7jDOHJF-"
   },
   "outputs": [],
   "source": [
    "def find_eig1(x, y):\n",
    "  j = np.array([[1.05 * (1 + (-2 * x - 0.5 * y) / 100), -0.00525 * x], [-0.0103 * x, 1.03 * (1 + (-2 * y - 0.2 * x) / 100)]])\n",
    "  return np.linalg.eig(j)"
   ]
  },
  {
   "cell_type": "markdown",
   "metadata": {
    "id": "1PtUrTzGHrYX"
   },
   "source": [
    "Two positive real eigenvalues, unstable source at (0,0)"
   ]
  },
  {
   "cell_type": "code",
   "execution_count": null,
   "metadata": {
    "colab": {
     "base_uri": "https://localhost:8080/"
    },
    "id": "hlpjeyUjHquC",
    "outputId": "c7db88fa-c4ce-417d-e01d-82efe06a4a60"
   },
   "outputs": [
    {
     "data": {
      "text/plain": [
       "array([1.05, 1.03])"
      ]
     },
     "execution_count": 47,
     "metadata": {},
     "output_type": "execute_result"
    }
   ],
   "source": [
    "find_eig1(0,0)[0]"
   ]
  },
  {
   "cell_type": "markdown",
   "metadata": {
    "id": "I83JkjpeHQ33"
   },
   "source": [
    "One negative and one positive eigenvalue, saddle at (100, 0)"
   ]
  },
  {
   "cell_type": "code",
   "execution_count": null,
   "metadata": {
    "colab": {
     "base_uri": "https://localhost:8080/"
    },
    "id": "Vzm5M2ucHRZ5",
    "outputId": "b5afdf98-603c-412a-d866-eb9198d8247c"
   },
   "outputs": [
    {
     "data": {
      "text/plain": [
       "array([-1.30409991,  1.07809991])"
      ]
     },
     "execution_count": 48,
     "metadata": {},
     "output_type": "execute_result"
    }
   ],
   "source": [
    "find_eig1(100, 0)[0]"
   ]
  },
  {
   "cell_type": "markdown",
   "metadata": {
    "id": "d5iAFtpCIJIX"
   },
   "source": [
    "One negative one positive eigenvalue, saddle at (0, 100)"
   ]
  },
  {
   "cell_type": "code",
   "execution_count": null,
   "metadata": {
    "colab": {
     "base_uri": "https://localhost:8080/"
    },
    "id": "lc9kxky3IJPu",
    "outputId": "e1a3ff12-659f-4ca0-a571-f91872991bf3"
   },
   "outputs": [
    {
     "data": {
      "text/plain": [
       "array([ 0.525, -1.03 ])"
      ]
     },
     "execution_count": 49,
     "metadata": {},
     "output_type": "execute_result"
    }
   ],
   "source": [
    "find_eig1(0, 100)[0]"
   ]
  },
  {
   "cell_type": "markdown",
   "metadata": {
    "id": "Xe8CbvfeIJVU"
   },
   "source": [
    "Two negative real eigenvalues, stable sink at (55.56, 88.89)"
   ]
  },
  {
   "cell_type": "code",
   "execution_count": null,
   "metadata": {
    "colab": {
     "base_uri": "https://localhost:8080/"
    },
    "id": "ps955xIWIJbc",
    "outputId": "bcdf379f-f7f8-4816-adc0-bd4fa137dbfd"
   },
   "outputs": [
    {
     "data": {
      "text/plain": [
       "array([-0.30848102, -1.19053908])"
      ]
     },
     "execution_count": 50,
     "metadata": {},
     "output_type": "execute_result"
    }
   ],
   "source": [
    "find_eig1(55.56, 88.89)[0]"
   ]
  },
  {
   "cell_type": "code",
   "execution_count": null,
   "metadata": {
    "colab": {
     "base_uri": "https://localhost:8080/",
     "height": 353
    },
    "id": "Lw9Fy3zbIhrg",
    "outputId": "2e549cff-0728-48c5-b45b-4589854d3589",
    "tags": []
   },
   "outputs": [
    {
     "name": "stderr",
     "output_type": "stream",
     "text": [
      "/usr/local/lib/python3.7/dist-packages/ipykernel_launcher.py:14: RuntimeWarning: invalid value encountered in true_divide\n",
      "  \n",
      "/usr/local/lib/python3.7/dist-packages/ipykernel_launcher.py:15: RuntimeWarning: invalid value encountered in true_divide\n",
      "  from ipykernel import kernelapp as app\n"
     ]
    },
    {
     "data": {
      "image/png": "[encoded data removed]",
      "text/plain": [
       "<Figure size 432x288 with 1 Axes>"
      ]
     },
     "metadata": {
      "needs_background": "light"
     },
     "output_type": "display_data"
    }
   ],
   "source": [
    "def f1(t, state):\n",
    "   X, Y = state\n",
    "   X_prime = (X * 1.05) * (1 - ((X + 0.5 * Y) / 100))\n",
    "   Y_prime = (Y * 1.03) * (1 - ((Y + 0.2 * X) / 100))\n",
    "   return (X_prime, Y_prime)\n",
    "\n",
    "x = np.arange(0, 120, 5)\n",
    "y = np.arange(0, 120, 5)\n",
    "X, Y = np.meshgrid(x, y)\n",
    "\n",
    "dx = (X * 1.05) * (1 - ((X + 0.5 * Y) / 100))\n",
    "dy = (Y * 1.03) * (1 - ((Y + 0.2 * X) / 100))\n",
    "\n",
    "dxu = dx/(np.sqrt(dx * dx + dy * dy))\n",
    "dyu = dy/(np.sqrt(dx * dx + dy * dy))\n",
    "\n",
    "t_interval = (0, 100)\n",
    "initial_state = (15, 15)\n",
    "solution = solve_ivp(f1, t_interval, initial_state)\n",
    "plt.plot(solution.y[0], solution.y[1])\n",
    "\n",
    "t_interval = (0, 100)\n",
    "initial_state = (0, 20)\n",
    "solution = solve_ivp(f1, t_interval, initial_state)\n",
    "plt.plot(solution.y[0], solution.y[1])\n",
    "\n",
    "t_interval = (0, 100)\n",
    "initial_state = (20, 0)\n",
    "solution = solve_ivp(f1, t_interval, initial_state)\n",
    "plt.plot(solution.y[0], solution.y[1])\n",
    "\n",
    "t_interval = (0, 100)\n",
    "initial_state = (80, 10)\n",
    "solution = solve_ivp(f1, t_interval, initial_state)\n",
    "plt.plot(solution.y[0], solution.y[1])\n",
    "\n",
    "t_interval = (0, 100)\n",
    "initial_state = (10, 90)\n",
    "solution = solve_ivp(f1, t_interval, initial_state)\n",
    "plt.plot(solution.y[0], solution.y[1])\n",
    "\n",
    "t_interval = (0, 100)\n",
    "initial_state = (85, 85)\n",
    "solution = solve_ivp(f1, t_interval, initial_state)\n",
    "plt.plot(solution.y[0], solution.y[1])\n",
    "\n",
    "x_fixed3 = [0, 100, 0, 55.56]\n",
    "y_fixed3 = [0, 0, 100, 88.89]\n",
    "\n",
    "plt.quiver(X, Y, dxu, dyu, color = \"k\")\n",
    "plt.scatter(x_fixed3, y_fixed3, color = \"r\")\n",
    "plt.xlabel(\"Species X\")\n",
    "plt.ylabel(\"Species Y\")\n",
    "plt.show()"
   ]
  },
  {
   "cell_type": "markdown",
   "metadata": {
    "id": "6xVJFHAuUv3Y"
   },
   "source": [
    "Species X decomposes wood at 1 unit of wood per 10 fungi per day. Species Y decomposes wood at 1 unit of wood per 20 fungi per day. Species X decomposes wood at a faster rate because it has a higher growth rate than species Y."
   ]
  },
  {
   "cell_type": "markdown",
   "metadata": {
    "id": "5lKWu6ggwQH3"
   },
   "source": [
    "$\\frac{dw}{dt}=-0.1X-0.05Y$"
   ]
  },
  {
   "cell_type": "code",
   "execution_count": null,
   "metadata": {
    "colab": {
     "base_uri": "https://localhost:8080/",
     "height": 591
    },
    "id": "VAd9jep7Izdh",
    "outputId": "5b965afa-1835-450e-ca35-5e322241bab8"
   },
   "outputs": [
    {
     "name": "stdout",
     "output_type": "stream",
     "text": [
      "The wood will be completely decomposed in  101 days if the initial population is (1, 1)\n"
     ]
    },
    {
     "data": {
      "image/png": "[encoded data removed]",
      "text/plain": [
       "<Figure size 432x288 with 1 Axes>"
      ]
     },
     "metadata": {
      "needs_background": "light"
     },
     "output_type": "display_data"
    },
    {
     "data": {
      "image/png": "[encoded data removed]",
      "text/plain": [
       "<Figure size 432x288 with 1 Axes>"
      ]
     },
     "metadata": {
      "needs_background": "light"
     },
     "output_type": "display_data"
    }
   ],
   "source": [
    "t_interval = (0, 500)\n",
    "initial_state = (1, 1)\n",
    "solution = solve_ivp(f1, t_interval, initial_state)\n",
    "dw = -0.1 * solution.y[0] + -0.05 * solution.y[1]\n",
    "\n",
    "a = []\n",
    "for i in range(len(dw)):\n",
    "  if (1000 + dw[i] * i) >= 0:\n",
    "    a.append(1000 + dw[i] * i)\n",
    "\n",
    "print(\"The wood will be completely decomposed in \", len(a), \"days if the initial population is (1, 1)\")\n",
    "plt.plot(dw[0:len(a)])\n",
    "plt.xlim([0, 120])\n",
    "plt.ylim([-15, 0])\n",
    "plt.xlabel(\"Time(Days)\")\n",
    "plt.ylabel(\"Wood Decomposed/Day\")\n",
    "plt.title(\"Wood Decomposition Rate Time Graph\")\n",
    "plt.show()\n",
    "plt.plot(a)\n",
    "plt.xlim([0, 120])\n",
    "plt.ylim([0, 1100])\n",
    "plt.xlabel(\"Time(Days)\")\n",
    "plt.ylabel(\"Wood\")\n",
    "plt.title(\"Wood Decomposition Time Graph\")\n",
    "plt.show()"
   ]
  },
  {
   "cell_type": "markdown",
   "metadata": {
    "id": "nNDyO8poJULO"
   },
   "source": [
    "### Competition Model 2 {-}\n",
    "Two species, X and Y, are competing for survival on a wooden log. Species X has a higher growth rate than species Y and Species Y has a higher moisture tolerance range than Species X. In this model, the moisture level is NOT at a point that gives Species Y a competitive advantage over Species X, and this Species X has a competitive advantage due to higher growth rate."
   ]
  },
  {
   "cell_type": "markdown",
   "metadata": {
    "id": "bBxfF5GOJcW7"
   },
   "source": [
    "$\\frac{dx}{dt}=1.05x(1-\\frac{x+0.2y}{100})$\n",
    "\n",
    "$\\frac{dy}{dt}=1.03y(1-\\frac{y+0.5x}{100})$\n",
    "\n",
    "$r_x=1.05$, $r_y=1.03$, $\\alpha_{xy} = 0.2$, $\\alpha_{yx} = 0.5$, $K_x=$100, $K_Y=100$"
   ]
  },
  {
   "cell_type": "markdown",
   "metadata": {
    "id": "ourwLfKJJlOV"
   },
   "source": [
    "We know three of the fixed points: (0, 0), (100, 0), (0, 100) given the carrying capacities. To find the fourth:"
   ]
  },
  {
   "cell_type": "markdown",
   "metadata": {
    "id": "fYUEWHELKjTH"
   },
   "source": [
    "$0=1-\\frac{x+0.2y}{100}$\n",
    "\n",
    "$100=x+0.2y$\n",
    "\n",
    "$x=100-0.2y$"
   ]
  },
  {
   "cell_type": "markdown",
   "metadata": {
    "id": "Tlo00ODRKjoe"
   },
   "source": [
    "$0=1-\\frac{y+0.5x}{100}$\n",
    "\n",
    "$100=y+0.5x$\n",
    "\n",
    "$y=100-0.5x$"
   ]
  },
  {
   "cell_type": "markdown",
   "metadata": {
    "id": "4KaQjyPMKjjO"
   },
   "source": [
    "$x=100-0.2(100-0.5x)$\n",
    "\n",
    "$x=100-20+0.1x$\n",
    "\n",
    "$0.9x=80$\n",
    "\n",
    "$x=88.89$\n",
    "\n",
    "$y=55.56$"
   ]
  },
  {
   "cell_type": "markdown",
   "metadata": {
    "id": "hC2qTaeQK_tG"
   },
   "source": [
    "The fixed points are: $\\textbf{(0,0), (100, 0), (0, 100), (88.89, 55.56)}$"
   ]
  },
  {
   "cell_type": "markdown",
   "metadata": {
    "id": "W2wv9qVOLDsM"
   },
   "source": [
    "$J = \\begin{bmatrix}\n",
    "1.05(1+\\frac{-2x-0.2y}{100}) & -0.0021x\\\\\n",
    "-0.00515y & 1.03(1+\\frac{-2y-0.5x}{100})\n",
    "\\end{bmatrix}$"
   ]
  },
  {
   "cell_type": "code",
   "execution_count": null,
   "metadata": {
    "id": "0KBHYXWFLWF0"
   },
   "outputs": [],
   "source": [
    "def find_eig2(x, y):\n",
    "  j = np.array([[1.05 * (1 + (-2 * x - 0.2 * y) / 100), -0.0021 * x], [-0.00515 * y, 1.03 * (1 + (-2 * y - 0.5 * x) / 100)]])\n",
    "  return np.linalg.eig(j)"
   ]
  },
  {
   "cell_type": "markdown",
   "metadata": {
    "id": "oUSDjE78Lafc"
   },
   "source": [
    "Two positive eigenvalues, unstable source at (0,0)"
   ]
  },
  {
   "cell_type": "code",
   "execution_count": null,
   "metadata": {
    "colab": {
     "base_uri": "https://localhost:8080/"
    },
    "id": "AA3iK1aQLanB",
    "outputId": "8bffbdd0-9aa9-4560-b367-09d3fb4fb018"
   },
   "outputs": [
    {
     "data": {
      "text/plain": [
       "array([1.05, 1.03])"
      ]
     },
     "execution_count": 54,
     "metadata": {},
     "output_type": "execute_result"
    }
   ],
   "source": [
    "find_eig2(0,0)[0]"
   ]
  },
  {
   "cell_type": "markdown",
   "metadata": {
    "id": "GCZPtAd4LasP"
   },
   "source": [
    "One negative and one positive eigenvalue, saddle at (100, 0)"
   ]
  },
  {
   "cell_type": "code",
   "execution_count": null,
   "metadata": {
    "colab": {
     "base_uri": "https://localhost:8080/"
    },
    "id": "0GZfl5z6Lax_",
    "outputId": "dfb505b7-4e37-43ac-eb63-4353d118359d"
   },
   "outputs": [
    {
     "data": {
      "text/plain": [
       "array([-1.05 ,  0.515])"
      ]
     },
     "execution_count": 55,
     "metadata": {},
     "output_type": "execute_result"
    }
   ],
   "source": [
    "find_eig2(100,0)[0]"
   ]
  },
  {
   "cell_type": "markdown",
   "metadata": {
    "id": "4zp3d_CXLa2s"
   },
   "source": [
    "One negative and one positive eigenvalue, saddle at (0, 100)"
   ]
  },
  {
   "cell_type": "code",
   "execution_count": null,
   "metadata": {
    "colab": {
     "base_uri": "https://localhost:8080/"
    },
    "id": "HlQ3IHGKLa8M",
    "outputId": "fbee61df-a198-48a8-c2ac-c72b627f0423"
   },
   "outputs": [
    {
     "data": {
      "text/plain": [
       "array([-1.03,  0.84])"
      ]
     },
     "execution_count": 56,
     "metadata": {},
     "output_type": "execute_result"
    }
   ],
   "source": [
    "find_eig2(0, 100)[0]"
   ]
  },
  {
   "cell_type": "markdown",
   "metadata": {
    "id": "oTym0f9iLbKh"
   },
   "source": [
    "Two positive real eigenvalues, stable sink at (88.89, 55.56)"
   ]
  },
  {
   "cell_type": "code",
   "execution_count": null,
   "metadata": {
    "colab": {
     "base_uri": "https://localhost:8080/"
    },
    "id": "moFrN7WMVAk9",
    "outputId": "8cff94b6-8d46-47b6-c59c-27e3d99a2457"
   },
   "outputs": [
    {
     "data": {
      "text/plain": [
       "(array([-1.04610201, -0.45958349]), array([[-0.85600317,  0.36657111],\n",
       "        [-0.51697057, -0.93039004]]))"
      ]
     },
     "execution_count": 57,
     "metadata": {},
     "output_type": "execute_result"
    }
   ],
   "source": [
    "find_eig2(88.89, 55.56)"
   ]
  },
  {
   "cell_type": "code",
   "execution_count": null,
   "metadata": {
    "colab": {
     "base_uri": "https://localhost:8080/",
     "height": 353
    },
    "id": "3rSBSwweLbRR",
    "outputId": "656c5107-0955-4c4a-e874-a841482637f8",
    "tags": []
   },
   "outputs": [
    {
     "name": "stderr",
     "output_type": "stream",
     "text": [
      "/usr/local/lib/python3.7/dist-packages/ipykernel_launcher.py:14: RuntimeWarning: invalid value encountered in true_divide\n",
      "  \n",
      "/usr/local/lib/python3.7/dist-packages/ipykernel_launcher.py:15: RuntimeWarning: invalid value encountered in true_divide\n",
      "  from ipykernel import kernelapp as app\n"
     ]
    },
    {
     "data": {
      "image/png": "[encoded data removed]",
      "text/plain": [
       "<Figure size 432x288 with 1 Axes>"
      ]
     },
     "metadata": {
      "needs_background": "light"
     },
     "output_type": "display_data"
    }
   ],
   "source": [
    "def f2(t, state):\n",
    "   X, Y = state\n",
    "   X_prime = (X * 1.05) * (1 - ((X + 0.2 * Y) / 100))\n",
    "   Y_prime = (Y * 1.03) * (1 - ((Y + 0.5 * X) / 100))\n",
    "   return (X_prime, Y_prime)\n",
    "\n",
    "x = np.arange(0, 120, 5)\n",
    "y = np.arange(0, 120, 5)\n",
    "X, Y = np.meshgrid(x, y)\n",
    "\n",
    "dx = (X * 1.05) * (1 - ((X + 0.2 * Y) / 100))\n",
    "dy = (Y * 1.03) * (1 - ((Y + 0.5 * X) / 100))\n",
    "\n",
    "dxu = dx/(np.sqrt(dx * dx + dy * dy))\n",
    "dyu = dy/(np.sqrt(dx * dx + dy * dy))\n",
    "\n",
    "t_interval = (0, 100)\n",
    "initial_state = (15, 15)\n",
    "solution = solve_ivp(f2, t_interval, initial_state)\n",
    "plt.plot(solution.y[0], solution.y[1])\n",
    "\n",
    "t_interval = (0, 100)\n",
    "initial_state = (0, 20)\n",
    "solution = solve_ivp(f2, t_interval, initial_state)\n",
    "plt.plot(solution.y[0], solution.y[1])\n",
    "\n",
    "t_interval = (0, 100)\n",
    "initial_state = (20, 0)\n",
    "solution = solve_ivp(f2, t_interval, initial_state)\n",
    "plt.plot(solution.y[0], solution.y[1])\n",
    "\n",
    "t_interval = (0, 100)\n",
    "initial_state = (80, 10)\n",
    "solution = solve_ivp(f2, t_interval, initial_state)\n",
    "plt.plot(solution.y[0], solution.y[1])\n",
    "\n",
    "t_interval = (0, 100)\n",
    "initial_state = (10, 90)\n",
    "solution = solve_ivp(f2, t_interval, initial_state)\n",
    "plt.plot(solution.y[0], solution.y[1])\n",
    "\n",
    "t_interval = (0, 100)\n",
    "initial_state = (85, 85)\n",
    "solution = solve_ivp(f2, t_interval, initial_state)\n",
    "plt.plot(solution.y[0], solution.y[1])\n",
    "\n",
    "x_fixed4 = [0, 100, 0, 88.89]\n",
    "y_fixed4 = [0, 0, 100, 55.56]\n",
    "\n",
    "plt.quiver(X, Y, dxu, dyu, color = \"k\")\n",
    "plt.scatter(x_fixed4, y_fixed4, color = \"r\")\n",
    "plt.xlabel(\"Species X\")\n",
    "plt.ylabel(\"Species Y\")\n",
    "plt.show()"
   ]
  },
  {
   "cell_type": "markdown",
   "metadata": {
    "id": "oYqvcEkJU0Ob"
   },
   "source": [
    "Species X decomposes wood at 1 unit of wood per 10 fungi per day. Species Y decomposes wood at 1 unit of wood per 20 fungi per day. Species X decomposes wood at a faster rate because it has a higher growth rate than species Y."
   ]
  },
  {
   "cell_type": "markdown",
   "metadata": {
    "id": "MOW0RkTDwjyx"
   },
   "source": [
    "$\\frac{dw}{dt}=-0.1X-0.05Y$"
   ]
  },
  {
   "cell_type": "code",
   "execution_count": null,
   "metadata": {
    "colab": {
     "base_uri": "https://localhost:8080/",
     "height": 591
    },
    "id": "oZ2TxyUiL4W2",
    "outputId": "1cbfe969-33ba-4d1d-e227-6265b825b6b4"
   },
   "outputs": [
    {
     "name": "stdout",
     "output_type": "stream",
     "text": [
      "The wood will be completely decomposed in  86 days if the initial population is (1, 1)\n"
     ]
    },
    {
     "data": {
      "image/png": "[encoded data removed]",
      "text/plain": [
       "<Figure size 432x288 with 1 Axes>"
      ]
     },
     "metadata": {
      "needs_background": "light"
     },
     "output_type": "display_data"
    },
    {
     "data": {
      "image/png": "[encoded data removed]",
      "text/plain": [
       "<Figure size 432x288 with 1 Axes>"
      ]
     },
     "metadata": {
      "needs_background": "light"
     },
     "output_type": "display_data"
    }
   ],
   "source": [
    "t_interval = (0, 250)\n",
    "initial_state = (1, 1)\n",
    "solution = solve_ivp(f2, t_interval, initial_state)\n",
    "dw = -0.1 * solution.y[0] + -0.05 * solution.y[1]\n",
    "\n",
    "a = []\n",
    "for i in range(len(dw)):\n",
    "  if (1000 + dw[i] * i) >= 0:\n",
    "    a.append(1000 + dw[i] * i)\n",
    "\n",
    "print(\"The wood will be completely decomposed in \", len(a), \"days if the initial population is (1, 1)\")\n",
    "plt.plot(dw)\n",
    "plt.xlim([0, 120])\n",
    "plt.ylim([-15, 0])\n",
    "plt.xlabel(\"Time(Days)\")\n",
    "plt.ylabel(\"Wood Units/Day\")\n",
    "plt.title(\"Wood Decomposition Rate Time Graph\")\n",
    "plt.show()\n",
    "plt.plot(a)\n",
    "plt.xlim([0, 120])\n",
    "plt.ylim([0, 1100])\n",
    "plt.xlabel(\"Time(Days)\")\n",
    "plt.ylabel(\"Wood\")\n",
    "plt.title(\"Wood Decomposition Time Graph\")\n",
    "plt.show()"
   ]
  },
  {
   "cell_type": "markdown",
   "metadata": {
    "id": "zbrXkLpZNCZS"
   },
   "source": [
    "### Competition Model 3 {-}"
   ]
  },
  {
   "cell_type": "markdown",
   "metadata": {
    "id": "DcOoY4r3OKP7"
   },
   "source": [
    "Two species, X and Y, are competing for survival on a wooden log. Species X and Species Y have the same growth rate and Species X has a greater moisture tolerance range than Species Y . In this model, the moisture level is at a point that gives Species X a competitive advantage over Species Y. "
   ]
  },
  {
   "cell_type": "markdown",
   "metadata": {
    "id": "7v7aSqTeOKSQ"
   },
   "source": [
    "$\\frac{dx}{dt}=1.05x(1-\\frac{x+0.4y}{100})$\n",
    "\n",
    "$\\frac{dy}{dy}=1.05y(1-\\frac{y+0.8x}{100})$\n",
    "\n",
    "$r_x=1.05$, $r_y=1.05$, $\\alpha_{xy} = 0.4$, $\\alpha_{yx} = 0.8$, $K_x=$100, $K_Y=100$"
   ]
  },
  {
   "cell_type": "markdown",
   "metadata": {
    "id": "o4dSlxneOKUu"
   },
   "source": [
    "We know three of the fixed points: (0, 0), (100, 0), (0, 100) given the carrying capacities. To find the fourth:"
   ]
  },
  {
   "cell_type": "markdown",
   "metadata": {
    "id": "Pvu2IX-_OKeQ"
   },
   "source": [
    "$0=1-\\frac{x+0.4y}{100}$\n",
    "\n",
    "$100=x+0.4y$\n",
    "\n",
    "$x=100-0.4y$"
   ]
  },
  {
   "cell_type": "markdown",
   "metadata": {
    "id": "hrYfElq4Oq6Z"
   },
   "source": [
    "$0=0=1-\\frac{y+0.8x}{100}$\n",
    "\n",
    "$100=y+0.8x$\n",
    "\n",
    "$y=100-0.8x$"
   ]
  },
  {
   "cell_type": "markdown",
   "metadata": {
    "id": "gi2EZHynO0XD"
   },
   "source": [
    "$x=100-0.4(100-0.8x$\n",
    "\n",
    "$x=100-40+0.32x$\n",
    "\n",
    "$0.68x=60$\n",
    "\n",
    "$x=88.24$\n",
    "\n",
    "$y=29.41$\n"
   ]
  },
  {
   "cell_type": "markdown",
   "metadata": {
    "id": "qTBQLGRCPGFO"
   },
   "source": [
    "The fixed points are: $\\textbf{(0,0), (100, 0), (0, 100), (88.24, 29.41)}$"
   ]
  },
  {
   "cell_type": "markdown",
   "metadata": {
    "id": "o9zUqOwvPn-0"
   },
   "source": [
    "$J=\n",
    "\\begin{bmatrix}\n",
    "1.05(1+\\frac{-2x-0.4y}{100}) & -0.0042x\\\\\n",
    "-0.0084y & 1.05(1+\\frac{-2y-0.8x}{100})\n",
    "\\end{bmatrix}$"
   ]
  },
  {
   "cell_type": "code",
   "execution_count": null,
   "metadata": {
    "id": "stjvdFsAP3h7"
   },
   "outputs": [],
   "source": [
    "def find_eig3(x, y):\n",
    "    j = np.array([[1.05 * (1 + (-2 * x - 0.4 * y) / 100), -0.0042 * x],[-0.0084 * y, 1.05 * (1 + (-2 * y - 0.8 * x) / 100)]])\n",
    "    return np.linalg.eig(j)"
   ]
  },
  {
   "cell_type": "markdown",
   "metadata": {
    "id": "VeyMZeTrP5ps"
   },
   "source": [
    "Two negative eigenvalues, unstable source at (0, 0)"
   ]
  },
  {
   "cell_type": "code",
   "execution_count": null,
   "metadata": {
    "colab": {
     "base_uri": "https://localhost:8080/"
    },
    "id": "KWB4_N7aP5uZ",
    "outputId": "b00d5134-b228-4437-8a28-f34c19dfa887"
   },
   "outputs": [
    {
     "data": {
      "text/plain": [
       "array([1.05, 1.05])"
      ]
     },
     "execution_count": 61,
     "metadata": {},
     "output_type": "execute_result"
    }
   ],
   "source": [
    "find_eig3(0,0)[0]"
   ]
  },
  {
   "cell_type": "markdown",
   "metadata": {
    "id": "vL4HKRV-P5y9"
   },
   "source": [
    "One negative one positive eigenvalue, saddle at (0, 100)"
   ]
  },
  {
   "cell_type": "code",
   "execution_count": null,
   "metadata": {
    "colab": {
     "base_uri": "https://localhost:8080/"
    },
    "id": "RtBPlA8aP54O",
    "outputId": "6b6d4473-fead-41e7-a2f3-b9be016fe43e"
   },
   "outputs": [
    {
     "data": {
      "text/plain": [
       "array([-1.05,  0.21])"
      ]
     },
     "execution_count": 62,
     "metadata": {},
     "output_type": "execute_result"
    }
   ],
   "source": [
    "find_eig3(100, 0)[0]"
   ]
  },
  {
   "cell_type": "markdown",
   "metadata": {
    "id": "Y_Z9zqYrP58s"
   },
   "source": [
    "One negative one positive eigenvalue, saddle at (0, 100)"
   ]
  },
  {
   "cell_type": "code",
   "execution_count": null,
   "metadata": {
    "colab": {
     "base_uri": "https://localhost:8080/"
    },
    "id": "7yZYn7o2P6B4",
    "outputId": "27f39344-ced6-4766-b06f-5005301436bf"
   },
   "outputs": [
    {
     "data": {
      "text/plain": [
       "array([-1.05,  0.63])"
      ]
     },
     "execution_count": 63,
     "metadata": {},
     "output_type": "execute_result"
    }
   ],
   "source": [
    "find_eig3(0, 100)[0]"
   ]
  },
  {
   "cell_type": "markdown",
   "metadata": {
    "id": "yUsz2bbhP6Hh"
   },
   "source": [
    "Two negative eigenvalues, stable sink at (88.24, 29.41)"
   ]
  },
  {
   "cell_type": "code",
   "execution_count": null,
   "metadata": {
    "colab": {
     "base_uri": "https://localhost:8080/"
    },
    "id": "tHijJfUdP6Lx",
    "outputId": "ff9d5c7f-de95-43f9-a25e-c98da27108d4"
   },
   "outputs": [
    {
     "data": {
      "text/plain": [
       "array([-1.050078, -0.18531 ])"
      ]
     },
     "execution_count": 64,
     "metadata": {},
     "output_type": "execute_result"
    }
   ],
   "source": [
    "find_eig3(88.24, 29.41)[0]"
   ]
  },
  {
   "cell_type": "code",
   "execution_count": null,
   "metadata": {
    "colab": {
     "base_uri": "https://localhost:8080/",
     "height": 353
    },
    "id": "oESHLY7WQqgO",
    "outputId": "3732e6b4-c0f7-4b60-a739-95d239ee05f2",
    "tags": []
   },
   "outputs": [
    {
     "name": "stderr",
     "output_type": "stream",
     "text": [
      "/usr/local/lib/python3.7/dist-packages/ipykernel_launcher.py:14: RuntimeWarning: invalid value encountered in true_divide\n",
      "  \n",
      "/usr/local/lib/python3.7/dist-packages/ipykernel_launcher.py:15: RuntimeWarning: invalid value encountered in true_divide\n",
      "  from ipykernel import kernelapp as app\n"
     ]
    },
    {
     "data": {
      "image/png": "[encoded data removed]",
      "text/plain": [
       "<Figure size 432x288 with 1 Axes>"
      ]
     },
     "metadata": {
      "needs_background": "light"
     },
     "output_type": "display_data"
    }
   ],
   "source": [
    "def f3(t, state):\n",
    "   X, Y = state\n",
    "   X_prime = (X * 1.05) * (1 - ((X + 0.4 * Y) / 100))\n",
    "   Y_prime = (Y * 1.05) * (1 - ((Y + 0.8 * X) / 100))\n",
    "   return (X_prime, Y_prime)\n",
    "  \n",
    "x = np.arange(0, 120, 5)\n",
    "y = np.arange(0, 120, 5)\n",
    "X, Y = np.meshgrid(x, y)\n",
    "\n",
    "dx = (X * 1.05) * (1 - ((X + 0.4 * Y) / 100))\n",
    "dy = (Y * 1.05) * (1 - ((Y + 0.8 * X) / 100))\n",
    "\n",
    "dxu = dx/(np.sqrt(dx * dx + dy * dy))\n",
    "dyu = dy/(np.sqrt(dx * dx + dy * dy))\n",
    "\n",
    "t_interval = (0, 100)\n",
    "initial_state = (15, 15)\n",
    "solution = solve_ivp(f3, t_interval, initial_state)\n",
    "plt.plot(solution.y[0], solution.y[1])\n",
    "\n",
    "t_interval = (0, 100)\n",
    "initial_state = (0, 20)\n",
    "solution = solve_ivp(f3, t_interval, initial_state)\n",
    "plt.plot(solution.y[0], solution.y[1])\n",
    "\n",
    "t_interval = (0, 100)\n",
    "initial_state = (20, 0)\n",
    "solution = solve_ivp(f3, t_interval, initial_state)\n",
    "plt.plot(solution.y[0], solution.y[1])\n",
    "\n",
    "t_interval = (0, 100)\n",
    "initial_state = (80, 10)\n",
    "solution = solve_ivp(f3, t_interval, initial_state)\n",
    "plt.plot(solution.y[0], solution.y[1])\n",
    "\n",
    "t_interval = (0, 100)\n",
    "initial_state = (10, 90)\n",
    "solution = solve_ivp(f3, t_interval, initial_state)\n",
    "plt.plot(solution.y[0], solution.y[1])\n",
    "\n",
    "t_interval = (0, 100)\n",
    "initial_state = (85, 85)\n",
    "solution = solve_ivp(f3, t_interval, initial_state)\n",
    "plt.plot(solution.y[0], solution.y[1])\n",
    "\n",
    "x_fixed5 = [0, 100, 0, 88.24]\n",
    "y_fixed5 = [0, 0, 100, 29.41]\n",
    "\n",
    "plt.quiver(X, Y, dxu, dyu, color = \"k\")\n",
    "plt.scatter(x_fixed5, y_fixed5, color = \"r\")\n",
    "plt.xlabel(\"Species X\")\n",
    "plt.ylabel(\"Species Y\")\n",
    "plt.show()"
   ]
  },
  {
   "cell_type": "markdown",
   "metadata": {
    "id": "2eZyBi-OwohC"
   },
   "source": [
    "Species X and Species Y have the same growth rate, so they both decompose wood at the same rate of 0.1 units of wood per unit of fungi."
   ]
  },
  {
   "cell_type": "markdown",
   "metadata": {
    "id": "pmXTD0u8womk"
   },
   "source": [
    "$\\frac{dw}{dt}=-0.1X-0.1Y$"
   ]
  },
  {
   "cell_type": "code",
   "execution_count": null,
   "metadata": {
    "colab": {
     "base_uri": "https://localhost:8080/",
     "height": 591
    },
    "id": "9Skf8rC4QqmU",
    "outputId": "0c8f81de-82ab-4533-99dc-fc1afd941323"
   },
   "outputs": [
    {
     "name": "stdout",
     "output_type": "stream",
     "text": [
      "The wood will be completely decomposed in  86 days if the initial population is (1, 1)\n"
     ]
    },
    {
     "data": {
      "image/png": "[encoded data removed]",
      "text/plain": [
       "<Figure size 432x288 with 1 Axes>"
      ]
     },
     "metadata": {
      "needs_background": "light"
     },
     "output_type": "display_data"
    },
    {
     "data": {
      "image/png": "[encoded data removed]",
      "text/plain": [
       "<Figure size 432x288 with 1 Axes>"
      ]
     },
     "metadata": {
      "needs_background": "light"
     },
     "output_type": "display_data"
    }
   ],
   "source": [
    "t_interval = (0, 250)\n",
    "initial_state = (1, 1)\n",
    "solution = solve_ivp(f3, t_interval, initial_state)\n",
    "dw = -0.1 * (solution.y[0] + solution.y[1])\n",
    "\n",
    "a = []\n",
    "for i in range(len(dw)):\n",
    "  if (1000 + dw[i] * i) >= 0:\n",
    "    a.append(1000 + dw[i] * i)\n",
    "\n",
    "print(\"The wood will be completely decomposed in \", len(a), \"days if the initial population is (1, 1)\")\n",
    "plt.plot(dw)\n",
    "plt.xlim([0, 120])\n",
    "plt.ylim([-15, 0])\n",
    "plt.xlabel(\"Time(Days)\")\n",
    "plt.ylabel(\"Wood Units/Day\")\n",
    "plt.title(\"Wood Decomposition Rate Time Graph\")\n",
    "plt.show()\n",
    "plt.plot(a)\n",
    "plt.xlim([0, 120])\n",
    "plt.ylim([0, 1100])\n",
    "plt.xlabel(\"Time(Days)\")\n",
    "plt.ylabel(\"Wood\")\n",
    "plt.title(\"Wood Decomposition Time Graph\")\n",
    "plt.show()"
   ]
  },
  {
   "cell_type": "markdown",
   "metadata": {
    "id": "yzjWcWigZ8ny",
    "tags": []
   },
   "source": [
    "## Conclusions {-}\n",
    "\n",
    "Many conclusions can be drawn from both our spatial models and Lotka-Volterra competition models. \n",
    "\n",
    "First, we will analyze the spatial model to get a sense of how fungi competes on a block of wood, without yet paying attention to wood decomposition. It is evident that the starting position is important in a species' success in direct fungal growth competition. Additonally, direct competition between species directly affects their survival. When two groups of fungi are directly up against one another, the one with the competitive advantage will ultimately take up more space. If one species is able to overtake the other as shows in models 3 and 5, the species that is abke to overtake the other has more succesful growth in the long term. In a concise statement, the spatial model tells us that short term outcomes are determined by growth rate (or constant of proportionality in logistic equation), while long term outcomes is determined by the direct competitive advantage when fungi are in proximity. \n",
    "\n",
    "Next, let us analyze our Lotka-Volterra competition models. \n",
    "\n",
    "In Competition Model #1, we see that moisture tolerance is a more important competition factor than growth rate in non-optimal moisture conditions. This is represented by the stable sink fixed point at (55.56, 88.89) as species Y had a greater moisture tolerance niche range than species X which had a higher growth rate. Species Y ended with a greater population. In this model, the wood decomposed completely in 101 days which is longer than the other two models because the species with the higher moisture tolerance niche range outcompeted the species with the higher growth rate.\n",
    "\n",
    "In Competition Model #2, we see that growth rate is a more important competition factor than moisture tolerance in optimal moisture conditions. This is represented by the stable sink at (88.89, 55.56) as species X had a greater growth rate than Species Y which had a higher moisture tolerance niche range. Species X ended with a greater population. In this model, the wood decomposed completely in 86 days which is shorter than the first model because the species with the higher growth rate outcompeted the species with the higher moisture tolerance niche range.\n",
    "\n",
    "In Competiton Model #3, we see that in the event that both species have the same growth rate, moisture tolerance niche range is a very important competition factor. This is represented by the stable sink fixed pooint at (88.24, 29.41) as Species X and Species Y have the same growth rate but species X has a greater moisture tolerance niche range. In this model, the wood decomposed completely after 86 days, similar to the 2nd model as there were two species with a high growth rate decomposing the wood. \n",
    "\n",
    "As a whole, these modeles are a tool which can characaterize fungal growth in the wild. They aid in both the visualization and quantification of competition and wood decomposition"
   ]
  },
  {
   "cell_type": "markdown",
   "metadata": {
    "id": "2HXBNjuXZ-HN"
   },
   "source": [
    "## How can we improve {-}"
   ]
  },
  {
   "cell_type": "markdown",
   "metadata": {
    "id": "EqDQJ95s2BZD"
   },
   "source": [
    "For the spatial simulation: \n",
    "\n",
    "\n",
    "*   We can come up with a better algorithm so that we can simulate more time steps\n",
    "*   Function can take in more parameters to better model competition\n",
    "*   Longer simulation to have more detailed models.\n",
    "\n",
    "For the Lotka-Volterra Logistic Competition:\n",
    "\n",
    "*   Defined function to set competition coefficient\n",
    "*   Specific carrying capactities for certain types of species\n",
    "*   Better representation of how carrying capacities are effected by wood degredation\n"
   ]
  },
  {
   "cell_type": "code",
   "execution_count": null,
   "metadata": {},
   "outputs": [],
   "source": []
  }
 ],
 "metadata": {
  "colab": {
   "collapsed_sections": [],
   "name": "Fungi Final Draft.ipynb",
   "provenance": []
  },
  "kernelspec": {
   "display_name": "Python 3 (ipykernel)",
   "language": "python",
   "name": "python3"
  },
  "language_info": {
   "codemirror_mode": {
    "name": "ipython",
    "version": 3
   },
   "file_extension": ".py",
   "mimetype": "text/x-python",
   "name": "python",
   "nbconvert_exporter": "python",
   "pygments_lexer": "ipython3",
   "version": "3.9.7"
  }
 },
 "nbformat": 4,
 "nbformat_minor": 4
}
